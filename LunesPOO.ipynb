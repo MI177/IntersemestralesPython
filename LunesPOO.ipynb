{
  "nbformat": 4,
  "nbformat_minor": 0,
  "metadata": {
    "colab": {
      "provenance": [],
      "authorship_tag": "ABX9TyOuFJiwm3pYUV3opaOCJVB9",
      "include_colab_link": true
    },
    "kernelspec": {
      "name": "python3",
      "display_name": "Python 3"
    },
    "language_info": {
      "name": "python"
    }
  },
  "cells": [
    {
      "cell_type": "markdown",
      "metadata": {
        "id": "view-in-github",
        "colab_type": "text"
      },
      "source": [
        "<a href=\"https://colab.research.google.com/github/MI177/IntersemestralesPython/blob/main/LunesPOO.ipynb\" target=\"_parent\"><img src=\"https://colab.research.google.com/assets/colab-badge.svg\" alt=\"Open In Colab\"/></a>"
      ]
    },
    {
      "cell_type": "code",
      "execution_count": null,
      "metadata": {
        "id": "8uX6rU8UktTf",
        "colab": {
          "base_uri": "https://localhost:8080/"
        },
        "outputId": "c47337e6-d04e-4f07-9881-b41e24bf06e7"
      },
      "outputs": [
        {
          "output_type": "stream",
          "name": "stdout",
          "text": [
            "Hola Mundo\n"
          ]
        }
      ],
      "source": [
        "\n",
        "# Esto es un comentario\n",
        "\n",
        "print(\"Hola Mundo\")  # Esto imprime \"Hola Mundo\""
      ]
    },
    {
      "cell_type": "code",
      "source": [
        "!ls -a"
      ],
      "metadata": {
        "colab": {
          "base_uri": "https://localhost:8080/"
        },
        "id": "7ztz7tV26ouH",
        "outputId": "3b89ee8d-62ae-4bfe-bfd2-26580d03466a"
      },
      "execution_count": null,
      "outputs": [
        {
          "output_type": "stream",
          "name": "stdout",
          "text": [
            ".  ..  .config\tsample_data\n"
          ]
        }
      ]
    },
    {
      "cell_type": "code",
      "source": [
        "\n",
        "print(\"Hola\", \"Mundo\")\n",
        "\n",
        "print(\"Hola\" + \"Mundo\")\n",
        "\n",
        "\n",
        "print(\"Hola\", \"Mundo\", sep=\"-\")  # Imprime: Hola-Mundo\n",
        "\n",
        "\n",
        "print(\"Hola\", end=\"\")\n",
        "\n",
        "print(\"Mundo\")  # Imprime: HolaMundo"
      ],
      "metadata": {
        "colab": {
          "base_uri": "https://localhost:8080/"
        },
        "id": "CGIbmFrC4srA",
        "outputId": "55057d4e-8d07-4720-b300-7ba9b3aa5292"
      },
      "execution_count": null,
      "outputs": [
        {
          "output_type": "stream",
          "name": "stdout",
          "text": [
            "Hola Mundo\n",
            "HolaMundo\n",
            "Hola-Mundo\n",
            "HolaMundo\n"
          ]
        }
      ]
    },
    {
      "cell_type": "code",
      "source": [
        "\n",
        "nombre = \"José\"\n",
        "\n",
        "carrera = \"ICO, la mejor\"\n",
        "\n",
        "print(\"Mi nombre es {} y estudio {} en la FES Aragón\".format(nombre, carrera))"
      ],
      "metadata": {
        "colab": {
          "base_uri": "https://localhost:8080/"
        },
        "id": "70mGArYi5JjS",
        "outputId": "7f0171b9-e44d-401c-8847-4eef45a5a2a4"
      },
      "execution_count": null,
      "outputs": [
        {
          "output_type": "stream",
          "name": "stdout",
          "text": [
            "Mi nombre es José y estudio ICO, la mejor en la FES Aragón\n"
          ]
        }
      ]
    },
    {
      "cell_type": "code",
      "source": [
        "\n",
        "nombre = \"José\"\n",
        "\n",
        "carrera = \"ICO, la mejor\"\n",
        "\n",
        "print(f\"Mi nombre es { nombre*2} y estudio { carrera } en la FES Aragón\")"
      ],
      "metadata": {
        "colab": {
          "base_uri": "https://localhost:8080/"
        },
        "id": "BV-mUHL45Rep",
        "outputId": "7141e154-b0ae-4cb6-b88d-b7f74a5306dd"
      },
      "execution_count": null,
      "outputs": [
        {
          "output_type": "stream",
          "name": "stdout",
          "text": [
            "Mi nombre es JoséJosé y estudio ICO, la mejor en la FES Aragón\n"
          ]
        }
      ]
    },
    {
      "cell_type": "code",
      "source": [
        "\n",
        "\n",
        "\"\"\"\n",
        "\n",
        "este es\n",
        "\n",
        "un\n",
        "\n",
        "comentario de\n",
        "\n",
        "múltiple línea\n",
        "\n",
        "\"\"\"\n",
        "\n",
        "\n",
        "# Operadores aritméticos\n",
        "\n",
        "suma = 5 + 3    # 8\n",
        "\n",
        "resta = 5 - 3   # 2\n",
        "\n",
        "producto = 5 * 3  # 15\n",
        "\n",
        "division = 5 / 3  # 1.66667\n",
        "\n",
        "division2 = 5 // 3 # 1\n",
        "\n",
        "modulo = 5 % 3   # 2\n",
        "\n",
        "potencia = 5 ** 3  # 125"
      ],
      "metadata": {
        "id": "5uOCPAqW5Xzq"
      },
      "execution_count": null,
      "outputs": []
    },
    {
      "cell_type": "code",
      "source": [
        "\n",
        "# Operadores de comparación\n",
        "\n",
        "igual = 5 == 3  # False\n",
        "\n",
        "diferente = 5 != 3  # True\n",
        "\n",
        "mayor_que = 5 > 3  # True\n",
        "\n",
        "menor_que = 5 < 3  # False\n",
        "\n",
        "mayor_o_igual_que = 5 >= 3  # True\n",
        "\n",
        "menor_o_igual_que = 5 <= 3  # False"
      ],
      "metadata": {
        "id": "qmYjlGze_cNe"
      },
      "execution_count": null,
      "outputs": []
    },
    {
      "cell_type": "code",
      "source": [
        "\n",
        "# Operadores lógicos\n",
        "\n",
        "y = True and False  # False\n",
        "\n",
        "o = True or False  # True\n",
        "\n",
        "no = not True  # False"
      ],
      "metadata": {
        "id": "hoBKYYWK_jfK"
      },
      "execution_count": null,
      "outputs": []
    },
    {
      "cell_type": "code",
      "source": [
        "True and False and True"
      ],
      "metadata": {
        "colab": {
          "base_uri": "https://localhost:8080/"
        },
        "id": "7gp6Gv5-_qeR",
        "outputId": "7aa9947c-ac89-4bd0-ed1f-07a1bcfe7240"
      },
      "execution_count": null,
      "outputs": [
        {
          "output_type": "execute_result",
          "data": {
            "text/plain": [
              "False"
            ]
          },
          "metadata": {},
          "execution_count": 15
        }
      ]
    },
    {
      "cell_type": "code",
      "source": [
        "\n",
        "saludo = \"Hola Mundo\"\n",
        "\n",
        "cita = 'Los alumnos de ICO dicen: \"Hola Mundo\"'\n",
        "\n",
        "parrafo = \"\"\"Esto es un párrafo\n",
        "\n",
        "que abarca varias\n",
        "\n",
        "líneas\"\"\""
      ],
      "metadata": {
        "id": "v6sc7bkEA7Bm"
      },
      "execution_count": null,
      "outputs": []
    },
    {
      "cell_type": "code",
      "source": [
        "cita"
      ],
      "metadata": {
        "colab": {
          "base_uri": "https://localhost:8080/",
          "height": 52
        },
        "id": "yJxoE8ZvA_vM",
        "outputId": "4e2a70e2-0878-462c-b4e4-6190d90fc9c1"
      },
      "execution_count": null,
      "outputs": [
        {
          "output_type": "execute_result",
          "data": {
            "text/plain": [
              "'Los alumnos de ICO dicen: \"Hola Mundo\"'"
            ],
            "application/vnd.google.colaboratory.intrinsic+json": {
              "type": "string"
            }
          },
          "metadata": {},
          "execution_count": 23
        }
      ]
    },
    {
      "cell_type": "code",
      "source": [
        "\n",
        "\n",
        "def fn_uno():\n",
        "\n",
        "    print(\"Hola\")\n",
        "\n",
        "\n",
        "a, b, c = 10, \"Hola\", fn_uno\n",
        "\n",
        "print(a)\n",
        "\n",
        "print(b)\n",
        "\n",
        "print(c)\n",
        "\n",
        "c.__call__()"
      ],
      "metadata": {
        "colab": {
          "base_uri": "https://localhost:8080/"
        },
        "id": "UMYZXL6rCBA1",
        "outputId": "7c2173e9-fd1b-4254-fe75-5e6c975c12ad"
      },
      "execution_count": null,
      "outputs": [
        {
          "output_type": "stream",
          "name": "stdout",
          "text": [
            "10\n",
            "Hola\n",
            "<function fn_uno at 0x7fe40c10f370>\n",
            "Hola\n"
          ]
        }
      ]
    },
    {
      "cell_type": "code",
      "source": [
        "\n",
        "# entrada por teclado\n",
        "\n",
        "nombre = input(\"Por favor, introduce tu nombre: \")\n",
        "\n",
        "print(f\"Hola {nombre}!\")"
      ],
      "metadata": {
        "colab": {
          "base_uri": "https://localhost:8080/"
        },
        "id": "dMHoxJJcDARw",
        "outputId": "a603b841-2dd5-46ef-fdd7-5a7b0db14127"
      },
      "execution_count": null,
      "outputs": [
        {
          "output_type": "stream",
          "name": "stdout",
          "text": [
            "Por favor, introduce tu nombre: Isa\n",
            "Hola Isa!\n"
          ]
        }
      ]
    },
    {
      "cell_type": "code",
      "source": [
        "num = int(20)\n",
        "print(num)"
      ],
      "metadata": {
        "colab": {
          "base_uri": "https://localhost:8080/"
        },
        "id": "QkpkVlL6Dcw8",
        "outputId": "2a755ebb-c100-4eda-b838-e9f17666ae23"
      },
      "execution_count": null,
      "outputs": [
        {
          "output_type": "stream",
          "name": "stdout",
          "text": [
            "20\n"
          ]
        }
      ]
    },
    {
      "cell_type": "code",
      "source": [
        "\n",
        "edad = int(input(\"Introduce tu edad:\"))\n",
        "\n",
        "print(f\"{nombre} tiene {edad} años\")"
      ],
      "metadata": {
        "colab": {
          "base_uri": "https://localhost:8080/"
        },
        "id": "tUYWXoNIDwxL",
        "outputId": "34c2d2c3-b05d-459d-d1db-b7ed722c8b0d"
      },
      "execution_count": null,
      "outputs": [
        {
          "output_type": "stream",
          "name": "stdout",
          "text": [
            "Introduce tu edad:22\n",
            "Isa tiene 22 años\n"
          ]
        }
      ]
    },
    {
      "cell_type": "code",
      "source": [
        "\n",
        "mensaje = \"Hola Mundo\"  # String\n",
        "\n",
        "edad = 20               # Integer\n",
        "\n",
        "pi = 3.14159            # Float\n",
        "\n",
        "es_mayor = True         # Boolean\n",
        "\n",
        "imaginario = 3 + 4j     # Imaginario"
      ],
      "metadata": {
        "id": "y3-sVNiED16G"
      },
      "execution_count": null,
      "outputs": []
    },
    {
      "cell_type": "code",
      "source": [
        "imaginario + 1"
      ],
      "metadata": {
        "colab": {
          "base_uri": "https://localhost:8080/"
        },
        "id": "G6x8EA0-D-wW",
        "outputId": "f467d2a3-1ca9-48eb-88b2-b3c1e1d15914"
      },
      "execution_count": null,
      "outputs": [
        {
          "output_type": "execute_result",
          "data": {
            "text/plain": [
              "(4+4j)"
            ]
          },
          "metadata": {},
          "execution_count": 26
        }
      ]
    },
    {
      "cell_type": "code",
      "source": [
        "frutas = ['limon', 'aguacate', 'fresa']\n",
        "print(frutas[2])\n",
        "#indexado negativo posisicion -3 -2 -1\n",
        "print(frutas[-3])"
      ],
      "metadata": {
        "colab": {
          "base_uri": "https://localhost:8080/"
        },
        "id": "N-vpVHvIEfE_",
        "outputId": "2cdd5d63-363f-4789-d4d4-7b93185ea05b"
      },
      "execution_count": null,
      "outputs": [
        {
          "output_type": "stream",
          "name": "stdout",
          "text": [
            "fresa\n",
            "limon\n"
          ]
        }
      ]
    },
    {
      "cell_type": "code",
      "source": [
        "cosas=['limon',1,10,True,[1,2,3,4],'hola']\n",
        "print(cosas)"
      ],
      "metadata": {
        "colab": {
          "base_uri": "https://localhost:8080/"
        },
        "id": "wGHiLSjcFkC1",
        "outputId": "09664bb5-8acb-4a98-8d52-bf9101b0e2fe"
      },
      "execution_count": null,
      "outputs": [
        {
          "output_type": "stream",
          "name": "stdout",
          "text": [
            "['limon', 1, 10, True, [1, 2, 3, 4], 'hola']\n"
          ]
        }
      ]
    },
    {
      "cell_type": "markdown",
      "source": [
        "Slicing Python\n",
        "\n",
        "[inicio:stop:step]\n",
        "Para obtener rebanadas de un iterable\n",
        "\n",
        "Valores por defecto\n",
        "Inicio 0\n",
        "Stop tamaño de variable -1\n",
        "Step 1"
      ],
      "metadata": {
        "id": "FB9KPmODGDSL"
      }
    },
    {
      "cell_type": "code",
      "source": [
        "ej=[1,2,3,4,5,6,'a','b','c','d','e']\n",
        "print(ej)"
      ],
      "metadata": {
        "colab": {
          "base_uri": "https://localhost:8080/"
        },
        "id": "ggmT9m11GW9K",
        "outputId": "85910f27-926f-4250-991f-9f51743d9227"
      },
      "execution_count": null,
      "outputs": [
        {
          "output_type": "stream",
          "name": "stdout",
          "text": [
            "[1, 2, 3, 4, 5, 6, 'a', 'b', 'c', 'd', 'e']\n"
          ]
        }
      ]
    },
    {
      "cell_type": "code",
      "source": [
        "rebanada=ej[2:6:1]\n",
        "print(rebanada)"
      ],
      "metadata": {
        "colab": {
          "base_uri": "https://localhost:8080/"
        },
        "id": "F4ac_hqMHGNd",
        "outputId": "b9c98160-b410-4b55-edf6-d1709b856d71"
      },
      "execution_count": null,
      "outputs": [
        {
          "output_type": "stream",
          "name": "stdout",
          "text": [
            "[3, 4, 5, 6]\n"
          ]
        }
      ]
    },
    {
      "cell_type": "code",
      "source": [
        "rebanada=ej[6:9:1]\n",
        "print(rebanada)"
      ],
      "metadata": {
        "colab": {
          "base_uri": "https://localhost:8080/"
        },
        "id": "9fmdkWluHsr2",
        "outputId": "2bca7f0e-ff75-4ac0-ea4a-a601a2fdd10d"
      },
      "execution_count": null,
      "outputs": [
        {
          "output_type": "stream",
          "name": "stdout",
          "text": [
            "['a', 'b', 'c']\n"
          ]
        }
      ]
    },
    {
      "cell_type": "code",
      "source": [
        "#Tuplas, inmutables\n",
        "frutas2=('aguacate','limon','naranja')\n",
        "\n",
        "print(frutas)\n",
        "print(frutas2)\n",
        "print(frutas2[1])\n",
        "\n",
        "#frutas[1]='piña'\n",
        "#frutas2[1]='piña'\n",
        "\n",
        "print(frutas2[-1])"
      ],
      "metadata": {
        "colab": {
          "base_uri": "https://localhost:8080/"
        },
        "id": "np8GHFsKIpcX",
        "outputId": "c13a9502-ab50-412a-a12d-8af7cebe7bd6"
      },
      "execution_count": null,
      "outputs": [
        {
          "output_type": "stream",
          "name": "stdout",
          "text": [
            "['limon', 'piña', 'fresa']\n",
            "('aguacate', 'limon', 'naranja')\n",
            "limon\n",
            "naranja\n"
          ]
        }
      ]
    },
    {
      "cell_type": "code",
      "source": [
        "#Diccionario igual a json (si cierto :0), mutable\n",
        "\n",
        "alumno={'nocuenta':1234567,\n",
        "'carrera':'ico',\n",
        "'direccion':{'calle':'ranchoSeco','numero':3}}\n",
        "print(alumno)\n",
        "\n",
        "print(alumno['carrera'])"
      ],
      "metadata": {
        "colab": {
          "base_uri": "https://localhost:8080/"
        },
        "id": "Rh37a0_pJn3g",
        "outputId": "ef8c4fca-26eb-4e86-cd63-fb4d2927e605"
      },
      "execution_count": null,
      "outputs": [
        {
          "output_type": "stream",
          "name": "stdout",
          "text": [
            "{'nocuenta': 1234567, 'carrera': 'ico', 'direccion': {'calle': 'ranchoSeco', 'numero': 3}}\n",
            "ico\n"
          ]
        }
      ]
    },
    {
      "cell_type": "code",
      "source": [
        "print(alumno['direccion']['calle'][3:6:1])"
      ],
      "metadata": {
        "colab": {
          "base_uri": "https://localhost:8080/"
        },
        "id": "3hHTCRs3MCnA",
        "outputId": "4f0839c6-85ef-450c-d892-c6d8c5e845af"
      },
      "execution_count": null,
      "outputs": [
        {
          "output_type": "stream",
          "name": "stdout",
          "text": [
            "cho\n"
          ]
        }
      ]
    }
  ]
}
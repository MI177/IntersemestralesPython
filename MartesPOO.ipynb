{
  "nbformat": 4,
  "nbformat_minor": 0,
  "metadata": {
    "colab": {
      "provenance": [],
      "authorship_tag": "ABX9TyMz5GqxYcJEqtsk2bdYyncj",
      "include_colab_link": true
    },
    "kernelspec": {
      "name": "python3",
      "display_name": "Python 3"
    },
    "language_info": {
      "name": "python"
    }
  },
  "cells": [
    {
      "cell_type": "markdown",
      "metadata": {
        "id": "view-in-github",
        "colab_type": "text"
      },
      "source": [
        "<a href=\"https://colab.research.google.com/github/MI177/IntersemestralesPython/blob/main/MartesPOO.ipynb\" target=\"_parent\"><img src=\"https://colab.research.google.com/assets/colab-badge.svg\" alt=\"Open In Colab\"/></a>"
      ]
    },
    {
      "cell_type": "code",
      "execution_count": null,
      "metadata": {
        "id": "5bas7rSQ8wAl"
      },
      "outputs": [],
      "source": [
        "alumno = {'numero_cuenta' : 1232322 , 'carrera' : 'ICO' ,\n",
        "            'direccion' : {'calle' : 'rancho seco', 'numero' : 23},\n",
        "            'telefonos':['5512345678','5612345678']\n",
        "          }"
      ]
    },
    {
      "cell_type": "code",
      "source": [
        "print(alumno['telefonos'])\n",
        "print(alumno)\n",
        "alumno['facultad']=\"Fes aragon\"\n",
        "print(alumno)"
      ],
      "metadata": {
        "colab": {
          "base_uri": "https://localhost:8080/"
        },
        "id": "Q0McJDYs-HXo",
        "outputId": "69f2fb7e-d057-42e6-d237-1af5cf8f5ce7"
      },
      "execution_count": null,
      "outputs": [
        {
          "output_type": "stream",
          "name": "stdout",
          "text": [
            "['5512345678', '5612345678']\n",
            "{'numero_cuenta': 1232322, 'carrera': 'ICO', 'direccion': {'calle': 'rancho seco', 'numero': 23}, 'telefonos': ['5512345678', '5612345678']}\n",
            "{'numero_cuenta': 1232322, 'carrera': 'ICO', 'direccion': {'calle': 'rancho seco', 'numero': 23}, 'telefonos': ['5512345678', '5612345678'], 'facultad': 'Fes aragon'}\n"
          ]
        }
      ]
    },
    {
      "cell_type": "code",
      "source": [
        "#Recordar tabulación\n",
        "#if\n",
        "\n",
        "edad = 20\n",
        "\n",
        "if edad >= 18:\n",
        "\n",
        "    print(\"Eres mayor de edad.\")"
      ],
      "metadata": {
        "id": "TxAJSXsD-kOZ",
        "colab": {
          "base_uri": "https://localhost:8080/"
        },
        "outputId": "f1dbfeae-e3cd-4a9c-e508-8b523d611ef8"
      },
      "execution_count": null,
      "outputs": [
        {
          "output_type": "stream",
          "name": "stdout",
          "text": [
            "Eres mayor de edad.\n"
          ]
        }
      ]
    },
    {
      "cell_type": "code",
      "source": [
        "\n",
        "# if-esle\n",
        "\n",
        "\n",
        "edad = 15\n",
        "\n",
        "if edad >= 18:\n",
        "\n",
        "    print(\"Eres mayor de edad.\")\n",
        "\n",
        "else:\n",
        "\n",
        "    print(\"Eres menor de edad.\")"
      ],
      "metadata": {
        "colab": {
          "base_uri": "https://localhost:8080/"
        },
        "id": "vO0HkF8N_PyY",
        "outputId": "92e376b3-8871-49c8-f242-040830b078bd"
      },
      "execution_count": null,
      "outputs": [
        {
          "output_type": "stream",
          "name": "stdout",
          "text": [
            "Eres menor de edad.\n"
          ]
        }
      ]
    },
    {
      "cell_type": "code",
      "source": [
        "\n",
        " # if- elif - else\n",
        "edad = 20\n",
        "\n",
        "if edad < 13:\n",
        "\n",
        "    print(\"Eres un niño.\")\n",
        "\n",
        "elif edad < 18:\n",
        "\n",
        "    print(\"Eres un adolescente.\")\n",
        "\n",
        "else:\n",
        "\n",
        "    print(\"Eres un adulto.\")"
      ],
      "metadata": {
        "colab": {
          "base_uri": "https://localhost:8080/"
        },
        "id": "2xr9XuGn_WYr",
        "outputId": "a2565d0f-9beb-4e06-f3b1-a7ee480f8d40"
      },
      "execution_count": null,
      "outputs": [
        {
          "output_type": "stream",
          "name": "stdout",
          "text": [
            "Eres un adulto.\n"
          ]
        }
      ]
    },
    {
      "cell_type": "code",
      "source": [
        "#Ya existe la variable match (swicht java)\n",
        "# if-elif-elif\n",
        "\n",
        "edad = 20\n",
        "\n",
        "if edad < 13:\n",
        "\n",
        "    print(\"Eres un niño.\")\n",
        "\n",
        "elif edad < 18:\n",
        "\n",
        "    print(\"Eres un adolescente.\")\n",
        "\n",
        "elif edad < 30:\n",
        "\n",
        "    print(\"Eres un joven adulto.\")"
      ],
      "metadata": {
        "id": "MloRxzFu_oY3",
        "colab": {
          "base_uri": "https://localhost:8080/"
        },
        "outputId": "49149a68-8ff0-433f-9484-52b13bf19faa"
      },
      "execution_count": null,
      "outputs": [
        {
          "output_type": "stream",
          "name": "stdout",
          "text": [
            "Eres un joven adulto.\n"
          ]
        }
      ]
    },
    {
      "cell_type": "code",
      "source": [
        "\n",
        "# For  java for(int i = 1 ; i<10 ; i++)\n",
        "\n",
        "\n",
        "for i in range(1, 10, 1):\n",
        "\n",
        "    print(i)\n",
        "\n",
        "#for each\n",
        "\n",
        "frutas = ['piña', 'pera', 'manzana', 'fresa', 'aguacate']\n",
        "\n",
        "for fruta in frutas:\n",
        "\n",
        "    print(fruta)"
      ],
      "metadata": {
        "colab": {
          "base_uri": "https://localhost:8080/"
        },
        "id": "fNZkgI68AIcl",
        "outputId": "b4139bb3-b9d7-432a-8951-5378a1392b6b"
      },
      "execution_count": null,
      "outputs": [
        {
          "output_type": "stream",
          "name": "stdout",
          "text": [
            "1\n",
            "2\n",
            "3\n",
            "4\n",
            "5\n",
            "6\n",
            "7\n",
            "8\n",
            "9\n",
            "piña\n",
            "pera\n",
            "manzana\n",
            "fresa\n",
            "aguacate\n"
          ]
        }
      ]
    },
    {
      "cell_type": "code",
      "source": [
        "\n",
        "#break y continue\n",
        "\n",
        "for numero in frutas:\n",
        "\n",
        "    if numero == \"manzana\":\n",
        "\n",
        "        break   # ó continue\n",
        "\n",
        "    print(numero)  # imprime la fruta\n",
        "\n",
        "print(\"fin\")"
      ],
      "metadata": {
        "colab": {
          "base_uri": "https://localhost:8080/"
        },
        "id": "aCO1WOuMC5wU",
        "outputId": "116a9782-4e57-41cd-d627-519247b867b5"
      },
      "execution_count": null,
      "outputs": [
        {
          "output_type": "stream",
          "name": "stdout",
          "text": [
            "piña\n",
            "pera\n",
            "fin\n"
          ]
        }
      ]
    },
    {
      "cell_type": "code",
      "source": [
        "\n",
        "#break y continue\n",
        "\n",
        "for numero in frutas:\n",
        "\n",
        "    if numero == \"manzana\":\n",
        "\n",
        "        continue\n",
        "\n",
        "    print(numero)  # imprime la fruta\n",
        "\n",
        "print(\"fin\")"
      ],
      "metadata": {
        "colab": {
          "base_uri": "https://localhost:8080/"
        },
        "id": "S8-aJ7T8DclH",
        "outputId": "88ca48e3-67c6-4d4e-d5e8-bb45059b3d97"
      },
      "execution_count": null,
      "outputs": [
        {
          "output_type": "stream",
          "name": "stdout",
          "text": [
            "piña\n",
            "pera\n",
            "fresa\n",
            "aguacate\n",
            "fin\n"
          ]
        }
      ]
    },
    {
      "cell_type": "code",
      "source": [
        "tam=0\n",
        "while tam<10:\n",
        "       print(tam)\n",
        "       tam=int(input(\"dame un numero entero\"))\n",
        "print(\"fin\")"
      ],
      "metadata": {
        "colab": {
          "base_uri": "https://localhost:8080/"
        },
        "id": "v3qi6iVpDi28",
        "outputId": "c94b256a-d709-4f15-e20b-823bbadc4b98"
      },
      "execution_count": null,
      "outputs": [
        {
          "output_type": "stream",
          "name": "stdout",
          "text": [
            "0\n",
            "dame un numero entero5\n",
            "5\n",
            "dame un numero entero3\n",
            "3\n",
            "dame un numero entero11\n",
            "fin\n"
          ]
        }
      ]
    },
    {
      "cell_type": "code",
      "source": [],
      "metadata": {
        "id": "7vLwGAReEOPy"
      },
      "execution_count": null,
      "outputs": []
    }
  ]
}